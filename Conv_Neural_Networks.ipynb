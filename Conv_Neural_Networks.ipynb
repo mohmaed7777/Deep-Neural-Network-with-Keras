{
  "nbformat": 4,
  "nbformat_minor": 0,
  "metadata": {
    "colab": {
      "name": "Conv Neural Networks.ipynb",
      "provenance": [],
      "authorship_tag": "ABX9TyN8WDy17geI5VF24UcXlB3x",
      "include_colab_link": true
    },
    "kernelspec": {
      "name": "python3",
      "display_name": "Python 3"
    }
  },
  "cells": [
    {
      "cell_type": "markdown",
      "metadata": {
        "id": "view-in-github",
        "colab_type": "text"
      },
      "source": [
        "<a href=\"https://colab.research.google.com/github/mohmaed7777/Deep-Neural-Network-with-Keras/blob/master/Conv_Neural_Networks.ipynb\" target=\"_parent\"><img src=\"https://colab.research.google.com/assets/colab-badge.svg\" alt=\"Open In Colab\"/></a>"
      ]
    },
    {
      "cell_type": "code",
      "metadata": {
        "id": "-gdhExx5AK65",
        "colab_type": "code",
        "colab": {}
      },
      "source": [
        "# import keras packages\n",
        "import keras\n",
        "from keras.models import Sequential\n",
        "from keras.layers import Dense\n",
        "from keras.utils import to_categorical"
      ],
      "execution_count": 4,
      "outputs": []
    },
    {
      "cell_type": "markdown",
      "metadata": {
        "id": "lxzFrfS9LqME",
        "colab_type": "text"
      },
      "source": [
        "When working with convolutional neural networks in particular, we will need additional packages."
      ]
    },
    {
      "cell_type": "code",
      "metadata": {
        "id": "0YvvkEU1Ls_J",
        "colab_type": "code",
        "colab": {}
      },
      "source": [
        "from keras.layers.convolutional import Conv2D \n",
        "from keras.layers.convolutional import MaxPooling2D\n",
        "from keras.layers import Flatten "
      ],
      "execution_count": 5,
      "outputs": []
    },
    {
      "cell_type": "code",
      "metadata": {
        "id": "pcCXyEN3MkFS",
        "colab_type": "code",
        "colab": {}
      },
      "source": [
        "# import data \n",
        "from keras.dataset import mnist \n",
        "\n",
        "# load data \n",
        "(X_train, Y_train), (X_test, Y_test)\n",
        "\n"
      ],
      "execution_count": null,
      "outputs": []
    },
    {
      "cell_type": "markdown",
      "metadata": {
        "id": "7LiIo8BeLnNf",
        "colab_type": "text"
      },
      "source": [
        ""
      ]
    }
  ]
}