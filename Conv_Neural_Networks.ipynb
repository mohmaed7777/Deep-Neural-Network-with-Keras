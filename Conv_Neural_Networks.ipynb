{
  "nbformat": 4,
  "nbformat_minor": 0,
  "metadata": {
    "colab": {
      "name": "Conv Neural Networks.ipynb",
      "provenance": [],
      "authorship_tag": "ABX9TyP/A4GRWSkVddKEEDaGvxd5",
      "include_colab_link": true
    },
    "kernelspec": {
      "name": "python3",
      "display_name": "Python 3"
    }
  },
  "cells": [
    {
      "cell_type": "markdown",
      "metadata": {
        "id": "view-in-github",
        "colab_type": "text"
      },
      "source": [
        "<a href=\"https://colab.research.google.com/github/mohmaed7777/Deep-Neural-Network-with-Keras/blob/master/Conv_Neural_Networks.ipynb\" target=\"_parent\"><img src=\"https://colab.research.google.com/assets/colab-badge.svg\" alt=\"Open In Colab\"/></a>"
      ]
    },
    {
      "cell_type": "code",
      "metadata": {
        "id": "-gdhExx5AK65",
        "colab_type": "code",
        "colab": {}
      },
      "source": [
        "# import keras packages\n",
        "import keras\n",
        "from keras.models import Sequential\n",
        "from keras.layers import Dense\n",
        "from keras.utils import to_categorical"
      ],
      "execution_count": 21,
      "outputs": []
    },
    {
      "cell_type": "markdown",
      "metadata": {
        "id": "lxzFrfS9LqME",
        "colab_type": "text"
      },
      "source": [
        "When working with convolutional neural networks in particular, we will need additional packages."
      ]
    },
    {
      "cell_type": "code",
      "metadata": {
        "id": "0YvvkEU1Ls_J",
        "colab_type": "code",
        "colab": {}
      },
      "source": [
        "from keras.layers.convolutional import Conv2D \n",
        "from keras.layers.convolutional import MaxPooling2D\n",
        "from keras.layers import Flatten "
      ],
      "execution_count": 22,
      "outputs": []
    },
    {
      "cell_type": "code",
      "metadata": {
        "id": "pcCXyEN3MkFS",
        "colab_type": "code",
        "colab": {}
      },
      "source": [
        "# import data\n",
        "from keras.datasets import mnist\n",
        "\n",
        "# load data\n",
        "(X_train, y_train), (X_test, y_test) = mnist.load_data()\n",
        "\n",
        "# reshape to be [samples][pixels][width][height]\n",
        "X_train = X_train.reshape(X_train.shape[0], 28, 28, 1).astype('float32')\n",
        "X_test = X_test.reshape(X_test.shape[0], 28, 28, 1).astype('float32')"
      ],
      "execution_count": 23,
      "outputs": []
    },
    {
      "cell_type": "code",
      "metadata": {
        "id": "ThQNQQny9Ox3",
        "colab_type": "code",
        "colab": {}
      },
      "source": [
        "# Let's normalize the pixles values to be between 0 and 1:\n",
        "\n",
        "X_train = X_train / 255 # normalize training data\n",
        "X_test = X_test / 255 # normalize test data"
      ],
      "execution_count": 24,
      "outputs": []
    },
    {
      "cell_type": "code",
      "metadata": {
        "id": "Xr4yrqCX9wpa",
        "colab_type": "code",
        "colab": {}
      },
      "source": [
        "y_train = to_categorical(y_train)\n",
        "y_test = to_categorical(y_test)\n",
        "\n",
        "num_classes = y_test.shape[1] # number of categories"
      ],
      "execution_count": 25,
      "outputs": []
    },
    {
      "cell_type": "code",
      "metadata": {
        "id": "J6Zc78GI_G2C",
        "colab_type": "code",
        "colab": {}
      },
      "source": [
        "# Next , let's to define a function that create our model \n",
        "\n",
        "def convolutional_model():\n",
        "    \n",
        "    # create model\n",
        "    model = Sequential()\n",
        "    model.add(Conv2D(16, (5, 5), strides=(1, 1), activation='relu', input_shape=(28, 28, 1)))\n",
        "    model.add(MaxPooling2D(pool_size=(2, 2), strides=(2, 2)))\n",
        "    \n",
        "    model.add(Flatten())\n",
        "    model.add(Dense(100, activation='relu'))\n",
        "    model.add(Dense(num_classes, activation='softmax'))\n",
        "    \n",
        "    # compile model\n",
        "    model.compile(optimizer='adam', loss='categorical_crossentropy',  metrics=['accuracy'])\n",
        "    return model"
      ],
      "execution_count": 26,
      "outputs": []
    },
    {
      "cell_type": "code",
      "metadata": {
        "id": "56l-1pVTB22U",
        "colab_type": "code",
        "colab": {
          "base_uri": "https://localhost:8080/",
          "height": 422
        },
        "outputId": "997c6858-e3ae-4c5e-a3b5-310a3d44f609"
      },
      "source": [
        "# build the model \n",
        "model = convolutional_model()\n",
        "\n",
        "# fit the model \n",
        "model.fit(X_train, y_train, validation_data=(X_test, y_test), epochs=10, batch_size=200, verbose=2)\n",
        "\n",
        "# evaluate the model \n",
        "scores = model.evaluate(X_test, y_test, verbose=0)\n",
        "print(\"Accuracy: {} \\n Error: {}\".format(scores[1], 100-scores[1]*100))"
      ],
      "execution_count": 27,
      "outputs": [
        {
          "output_type": "stream",
          "text": [
            "Train on 60000 samples, validate on 10000 samples\n",
            "Epoch 1/10\n",
            " - 19s - loss: 0.2893 - accuracy: 0.9204 - val_loss: 0.0952 - val_accuracy: 0.9725\n",
            "Epoch 2/10\n",
            " - 19s - loss: 0.0840 - accuracy: 0.9759 - val_loss: 0.0622 - val_accuracy: 0.9795\n",
            "Epoch 3/10\n",
            " - 20s - loss: 0.0579 - accuracy: 0.9828 - val_loss: 0.0495 - val_accuracy: 0.9838\n",
            "Epoch 4/10\n",
            " - 19s - loss: 0.0459 - accuracy: 0.9863 - val_loss: 0.0438 - val_accuracy: 0.9850\n",
            "Epoch 5/10\n",
            " - 19s - loss: 0.0347 - accuracy: 0.9895 - val_loss: 0.0378 - val_accuracy: 0.9875\n",
            "Epoch 6/10\n",
            " - 19s - loss: 0.0307 - accuracy: 0.9908 - val_loss: 0.0357 - val_accuracy: 0.9881\n",
            "Epoch 7/10\n",
            " - 19s - loss: 0.0247 - accuracy: 0.9925 - val_loss: 0.0414 - val_accuracy: 0.9870\n",
            "Epoch 8/10\n",
            " - 19s - loss: 0.0214 - accuracy: 0.9933 - val_loss: 0.0375 - val_accuracy: 0.9882\n",
            "Epoch 9/10\n",
            " - 19s - loss: 0.0174 - accuracy: 0.9948 - val_loss: 0.0374 - val_accuracy: 0.9884\n",
            "Epoch 10/10\n",
            " - 19s - loss: 0.0150 - accuracy: 0.9957 - val_loss: 0.0362 - val_accuracy: 0.9894\n",
            "Accuracy: 0.9894000291824341 \n",
            " Error: 1.0599970817565918\n"
          ],
          "name": "stdout"
        }
      ]
    },
    {
      "cell_type": "code",
      "metadata": {
        "id": "MhMp9l8eClLP",
        "colab_type": "code",
        "colab": {
          "base_uri": "https://localhost:8080/",
          "height": 246
        },
        "outputId": "88828c6b-fdb0-45aa-b683-033416282ede"
      },
      "source": [
        "model.predict(X_test)"
      ],
      "execution_count": 31,
      "outputs": [
        {
          "output_type": "execute_result",
          "data": {
            "text/plain": [
              "array([[4.49488766e-08, 9.84710091e-09, 3.23784434e-07, ...,\n",
              "        9.99997854e-01, 3.47286799e-09, 1.20881509e-06],\n",
              "       [1.56741134e-10, 5.87943561e-09, 1.00000000e+00, ...,\n",
              "        1.33714667e-13, 1.95561644e-12, 3.62229073e-13],\n",
              "       [1.03494961e-06, 9.99898553e-01, 8.40881057e-07, ...,\n",
              "        6.22014486e-05, 8.25506504e-06, 7.91782071e-08],\n",
              "       ...,\n",
              "       [5.38039800e-14, 1.07816405e-08, 1.03358045e-12, ...,\n",
              "        1.49957515e-07, 1.11756702e-08, 2.78109638e-07],\n",
              "       [8.00021074e-13, 2.05225732e-14, 2.39261888e-14, ...,\n",
              "        7.64684323e-12, 9.77072432e-07, 1.85873331e-11],\n",
              "       [2.77563694e-10, 3.33062571e-13, 2.16240839e-08, ...,\n",
              "        1.08589598e-14, 2.00465844e-09, 4.69461752e-12]], dtype=float32)"
            ]
          },
          "metadata": {
            "tags": []
          },
          "execution_count": 31
        }
      ]
    },
    {
      "cell_type": "code",
      "metadata": {
        "id": "cJ-3U7DyE2JM",
        "colab_type": "code",
        "colab": {}
      },
      "source": [
        ""
      ],
      "execution_count": null,
      "outputs": []
    }
  ]
}